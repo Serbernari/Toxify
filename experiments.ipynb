{
 "cells": [
  {
   "cell_type": "markdown",
   "metadata": {},
   "source": [
    "# No Offence attack"
   ]
  },
  {
   "cell_type": "code",
   "execution_count": 3,
   "metadata": {},
   "outputs": [
    {
     "name": "stderr",
     "output_type": "stream",
     "text": [
      "[nltk_data] Downloading package sentiwordnet to\n",
      "[nltk_data]     C:\\Users\\user\\AppData\\Roaming\\nltk_data...\n",
      "[nltk_data]   Package sentiwordnet is already up-to-date!\n"
     ]
    }
   ],
   "source": [
    "# Standard library imports\n",
    "import re\n",
    "import random\n",
    "\n",
    "# Third-party library imports\n",
    "import numpy as np\n",
    "import pandas as pd\n",
    "import nltk\n",
    "\n",
    "# NLTK data downloads\n",
    "nltk.download('sentiwordnet')\n",
    "\n",
    "# NLTK corpus imports\n",
    "from nltk.corpus import sentiwordnet as swn\n"
   ]
  },
  {
   "cell_type": "code",
   "execution_count": 4,
   "metadata": {},
   "outputs": [],
   "source": [
    "positive = []\n",
    "for s in swn.all_senti_synsets():\n",
    " if s.pos_score() >= 0.8: \n",
    "   m = re.search('\\w+',s.synset.name())\n",
    "   m = m.group(0)\n",
    "   positive.append(m)\n",
    "positive = np.asarray(positive)"
   ]
  },
  {
   "cell_type": "code",
   "execution_count": 10,
   "metadata": {},
   "outputs": [],
   "source": [
    "def attack_message(input_text, num_added_words=10):\n",
    "  add_words = np.random.choice(positive, num_added_words)\n",
    "  input_poisoned = input_text\n",
    "  for w in add_words: \n",
    "    input_poisoned = input_poisoned + f' {w}'\n",
    "  return input_poisoned"
   ]
  },
  {
   "cell_type": "code",
   "execution_count": 22,
   "metadata": {},
   "outputs": [
    {
     "data": {
      "text/plain": [
       "'hi love yourself. Text for bot to avoid bad: good essentiality pacify think_the_world_of crispness charming wholesomeness good bang courtesy'"
      ]
     },
     "execution_count": 22,
     "metadata": {},
     "output_type": "execute_result"
    }
   ],
   "source": [
    "attack_message(\"hi love yourself. Text for bot to avoid bad:\")"
   ]
  },
  {
   "cell_type": "markdown",
   "metadata": {},
   "source": [
    "character-level - two options, passable and exact"
   ]
  },
  {
   "cell_type": "code",
   "execution_count": 16,
   "metadata": {},
   "outputs": [
    {
     "name": "stdout",
     "output_type": "stream",
     "text": [
      "Original: Hello, World! This is an example.\n",
      "Replaced: Hello, World! This is an example.\n"
     ]
    }
   ],
   "source": [
    "import unicodedata\n",
    "from unidecode import unidecode\n",
    "\n",
    "# Function to generate lookalike mapping\n",
    "def generate_lookalike_map():\n",
    "    lookalike_map = {}\n",
    "    for codepoint in range(0x0000, 0x10FFFF):\n",
    "        char = chr(codepoint)\n",
    "        try:\n",
    "            # Get the name of the character\n",
    "            name = unicodedata.name(char)\n",
    "            # Transliterate the character to ASCII\n",
    "            ascii_char = unidecode(char)\n",
    "            if ascii_char and ascii_char.isascii() and ascii_char.isprintable():\n",
    "                # Map the ASCII character to the original Unicode character if they look alike\n",
    "                if ascii_char not in lookalike_map:\n",
    "                    lookalike_map[ascii_char] = char\n",
    "        except ValueError:\n",
    "            # Skip characters that don't have a Unicode name\n",
    "            continue\n",
    "    return lookalike_map\n",
    "\n",
    "lookalike_map = generate_lookalike_map()\n",
    "\n",
    "# Function to replace characters using the lookalike mapping\n",
    "def replace_with_lookalikes(text, lookalike_map):\n",
    "    return ''.join(lookalike_map.get(char, char) for char in text)\n",
    "\n",
    "# Example usage\n",
    "original_text = \"Hello, World! This is an example.\"\n",
    "replaced_text = replace_with_lookalikes(original_text, lookalike_map)\n",
    "print(\"Original:\", original_text)\n",
    "print(\"Replaced:\", replaced_text)\n"
   ]
  },
  {
   "cell_type": "code",
   "execution_count": null,
   "metadata": {},
   "outputs": [],
   "source": [
    "lookalike_map"
   ]
  },
  {
   "cell_type": "code",
   "execution_count": null,
   "metadata": {},
   "outputs": [],
   "source": [
    "# mixed languages addition"
   ]
  },
  {
   "cell_type": "code",
   "execution_count": null,
   "metadata": {},
   "outputs": [],
   "source": [
    "# use GPT to create text from positive words"
   ]
  },
  {
   "cell_type": "code",
   "execution_count": null,
   "metadata": {},
   "outputs": [],
   "source": [
    "# all other attacks as symbol replacement"
   ]
  },
  {
   "cell_type": "code",
   "execution_count": 19,
   "metadata": {},
   "outputs": [],
   "source": [
    "# Maps English letters and numbers to other lookalikes:\n",
    "lookalike_map_passable = {\n",
    "    'A': ['А', 'Λ', 'Δ', 'Ӑ', '𝐴', '𝑨', '𝖠', '𝗔', '𝘈', '𝘼', '𝒜'],  # Cyrillic capital letter A, Greek capital letter Lambda, Greek capital letter Delta, Cyrillic capital letter A with breve, various mathematical and script versions\n",
    "    'B': ['Β', 'В', '𝐵', '𝑩', '𝖡', '𝗕', '𝘉', '𝘽'],  # Greek capital letter Beta, Cyrillic capital letter Ve, various mathematical versions\n",
    "    'C': ['С', 'Ϲ', 'ℂ', '𝐶', '𝑪', '𝖢', '𝗖', '𝘊', '𝘾', '𝒞'],  # Cyrillic capital letter Es, Greek capital letter lunate sigma, Double-struck capital C, various mathematical and script versions\n",
    "    'D': ['ԁ', '𝐷', '𝑫', '𝖣', '𝗗', '𝘋', '𝘿'],  # Cyrillic small letter A, various mathematical versions\n",
    "    'E': ['Е', 'Ɛ', '∃', '𝐸', '𝑬', '𝖤', '𝗘', '𝘌', '𝙀', 'ℰ'],  # Cyrillic capital letter E, Latin capital letter Open E, Mathematical symbol for there exists, various mathematical and script versions\n",
    "    'F': ['Ғ', 'Ϝ', '𝐹', '𝑭', '𝖥', '𝗙', '𝘍', '𝙁', 'ℱ'],  # Cyrillic capital letter Ghe with stroke, Greek capital letter Digamma, various mathematical and script versions\n",
    "    'G': ['ɢ', '𝐺', '𝑮', '𝖦', '𝗚', '𝘎', '𝙂', '𝒢'],  # Latin letter small capital G, various mathematical and script versions\n",
    "    'H': ['Н', 'Η', '𝐻', '𝑯', '𝖧', '𝗛', '𝘏', '𝙃'],  # Cyrillic capital letter En, Greek capital letter Eta, various mathematical versions\n",
    "    'I': ['І', 'Ι', 'Ӏ', 'ℐ', '𝐼', '𝑰', '𝖨', '𝗜', '𝘐', '𝙄'],  # Cyrillic capital letter Byelorussian-Ukrainian i, Greek capital letter Iota, Cyrillic capital letter Palochka, Script capital I, various mathematical versions\n",
    "    'J': ['Ј', '𝐽', '𝑱', '𝖩', '𝗝', '𝘑', '𝙅'],  # Cyrillic capital letter Je, various mathematical versions\n",
    "    'K': ['Κ', 'K', '𝐾', '𝑲', '𝖪', '𝗞', '𝘒', '𝙆'],  # Greek capital letter Kappa, Kelvin sign, various mathematical versions\n",
    "    'L': ['Ꮮ', '𝐿', '𝑳', '𝖫', '𝗟', '𝘓', '𝙇', 'ℒ'],  # Cherokee letter Lo, various mathematical and script versions\n",
    "    'M': ['М', 'Μ', 'Ϻ', '𝐌', '𝑴', '𝖬', '𝗠', '𝘔', '𝙈', 'ℳ'],  # Cyrillic capital letter Em, Greek capital letter Mu, Greek capital letter San, various mathematical and script versions\n",
    "    'N': ['Ν', 'ℕ', '𝐍', '𝑵', '𝖭', '𝗡', '𝘕', '𝙉'],  # Greek capital letter Nu, Double-struck capital N, various mathematical versions\n",
    "    'O': ['О', 'Ο', 'Օ', 'Θ', '𝑂', '𝐎', '𝑶', '𝖮', '𝗢', '𝘖', '𝙊', '𝒪'],  # Cyrillic capital letter O, Greek capital letter Omicron, Armenian capital letter Oh, Greek capital letter Theta, various mathematical and script versions\n",
    "    'P': ['Р', 'Ρ', '𝐏', '𝑷', '𝖯', '𝗣', '𝘗', '𝙋'],  # Cyrillic capital letter Er, Greek capital letter Rho, various mathematical versions\n",
    "    'Q': ['Ԛ', 'ℚ', '𝑄', '𝐐', '𝑸', '𝖰', '𝗤', '𝘘', '𝙌'],  # Cyrillic capital letter Qa, Double-struck capital Q, various mathematical versions\n",
    "    'R': ['Я', 'ℝ', '𝐑', '𝑹', '𝖱', '𝗥', '𝘙', '𝙍', 'ℛ'],  # Cyrillic capital letter Ya, Double-struck capital R, various mathematical and script versions\n",
    "    'S': ['Ѕ', '§', '𝐒', '𝑺', '𝖲', '𝗦', '𝘚', '𝙎', '𝒮'],  # Cyrillic capital letter Dze, Section sign, various mathematical and script versions\n",
    "    'T': ['Т', 'Τ', '𝐓', '𝑻', '𝖳', '𝗧', '𝘛', '𝙏'],  # Cyrillic capital letter Te, Greek capital letter Tau, various mathematical versions\n",
    "    'U': ['Ս', '∪', '𝐔', '𝑼', '𝖴', '𝗨', '𝘜', '𝙐', '𝒰'],  # Armenian capital letter Se, Mathematical symbol for union, various mathematical and script versions\n",
    "    'V': ['Ѵ', '𝐕', '𝑽', '𝖵', '𝗩', '𝘝', '𝙑'],  # Cyrillic capital letter Izhitsa, various mathematical versions\n",
    "    'W': ['Ш', 'Ѡ', '𝐖', '𝑾', '𝖶', '𝗪', '𝘞', '𝙒'],  # Cyrillic capital letter Sha, Cyrillic capital letter Omega, various mathematical versions\n",
    "    'X': ['Х', 'Χ', 'Ⅹ', '𝐗', '𝑿', '𝖷', '𝗫', '𝘟', '𝙓'],  # Cyrillic capital letter Ha, Greek capital letter Chi, Roman numeral ten, various mathematical versions\n",
    "    'Y': ['Ү', 'Υ', '𝐘', '𝒀', '𝖸', '𝗬', '𝘠', '𝙔'],  # Cyrillic capital letter Ue, Greek capital letter Upsilon, various mathematical versions\n",
    "    'Z': ['Ζ', '𝐙', '𝒁', '𝖹', '𝗭', '𝘡', '𝙕', 'ℤ'],  # Greek capital letter Zeta, various mathematical and script versions\n",
    "    'a': ['а', 'ɑ', '𝐚', '𝑎', '𝒂', '𝖺', '𝗮', '𝘢', '𝙖', '𝒜'],  # Cyrillic small letter a, Latin small letter a, various mathematical and script versions\n",
    "    'b': ['Ь', 'в', '𝐛', '𝑏', '𝒃', '𝖻', '𝗯', '𝘣', '𝙗'],  # Cyrillic small letter soft sign, Cyrillic small letter ve, various mathematical versions\n",
    "    'c': ['с', 'ϲ', '𝐜', '𝑐', '𝒄', '𝖼', '𝗰', '𝘤', '𝙘'],  # Cyrillic small letter es, Greek small letter lunate sigma, various mathematical versions\n",
    "    'd': ['ԁ', 'ɗ', '𝐝', '𝑑', '𝒅', '𝖽', '𝗱', '𝘥', '𝙙'],  # Cyrillic small letter A, Latin small letter d with tail, various mathematical versions\n",
    "    'e': ['е', 'ℯ', 'є', '𝐞', '𝑒', '𝒆', '𝖾', '𝗲', '𝘦', '𝙚', 'ℰ'],  # Cyrillic small letter e, Script small e, Cyrillic small letter e, various mathematical and script versions\n",
    "    'f': ['ғ', '𝐟', '𝑓', '𝒇', '𝖿', '𝗳', '𝘧', '𝙛'],  # Cyrillic small letter Ghe with stroke, various mathematical versions\n",
    "    'g': ['ɢ', 'ց', '𝐠', '𝑔', '𝒈', '𝗀', '𝗴', '𝘨', '𝙜', 'ℊ'],  # Latin letter small capital G, Armenian small letter co, various mathematical and script versions\n",
    "    'h': ['һ', '𝐡', '𝒉', '𝒽', '𝗁', '𝗵', '𝘩', '𝙝'],  # Cyrillic small letter Shha, various mathematical versions\n",
    "    'i': ['і', '𝐢', '𝑖', '𝒊', '𝒾', '𝗂', '𝗶', '𝘪', '𝙞'],  # Cyrillic small letter Byelorussian-Ukrainian i, various mathematical versions\n",
    "    'j': ['ј', '𝐣', '𝑗', '𝒋', '𝗃', '𝗷', '𝘫', '𝙟'],  # Cyrillic small letter Je, various mathematical versions\n",
    "    'k': ['κ', '𝐤', '𝑘', '𝒌', '𝗄', '𝗸', '𝘬', '𝙠'],  # Greek small letter Kappa, various mathematical versions\n",
    "    'l': ['ӏ', 'ⅼ', '𝐥', '𝑙', '𝒍', '𝗅', '𝗹', '𝘭', '𝙡', 'ℓ'],  # Cyrillic small letter Palochka, Roman numeral fifty, various mathematical and script versions\n",
    "    'm': ['м', '𝐦', '𝑚', '𝒎', '𝗆', '𝗺', '𝘮', '𝙢', 'ℳ'],  # Cyrillic small letter Em, various mathematical and script versions\n",
    "    'n': ['ո', '𝐧', '𝑛', '𝒏', '𝗇', '𝗻', '𝘯', '𝙣'],  # Armenian small letter Vo, various mathematical versions\n",
    "    'o': ['о', '𝐨', '𝑜', '𝒐', '𝗈', '𝗼', '𝘰', '𝙤'],  # Cyrillic small letter o, various mathematical versions\n",
    "    'p': ['р', '𝐩', '𝑝', '𝒑', '𝗉', '𝗽', '𝘱', '𝙥'],  # Cyrillic small letter er, various mathematical versions\n",
    "    'q': ['ԛ', 'զ', '𝐪', '𝑞', '𝒒', '𝗊', '𝗾', '𝘲', '𝙦'],  # Cyrillic small letter qa, Armenian small letter za, various mathematical versions\n",
    "    'r': ['г', '𝐫', '𝑟', '𝒓', '𝗋', '𝗿', '𝘳', '𝙧'],  # Cyrillic small letter g, various mathematical versions\n",
    "    's': ['ѕ', 'ʂ', '𝐬', '𝑠', '𝒔', '𝗌', '𝘀', '𝘴', '𝙨'],  # Cyrillic small letter dze, Latin small letter s with hook, various mathematical versions\n",
    "    't': ['т', '𝐭', '𝑡', '𝒕', '𝗍', '𝘁', '𝘵', '𝙩'],  # Cyrillic small letter te, various mathematical versions\n",
    "    'u': ['ս', 'μ', '𝐮', '𝑢', '𝒖', '𝗎', '𝘂', '𝘶', '𝙪'],  # Armenian small letter se, Greek small letter mu, various mathematical versions\n",
    "    'v': ['ѵ', '𝐯', '𝑣', '𝒗', '𝗏', '𝘃', '𝘷', '𝙫'],  # Cyrillic small letter Izhitsa, various mathematical versions\n",
    "    'w': ['ш', '𝐰', '𝑤', '𝒘', '𝗐', '𝘄', '𝘸', '𝙬'],  # Cyrillic small letter sha, various mathematical versions\n",
    "    'x': ['х', 'χ', 'ⅹ', '𝐱', '𝑥', '𝒙', '𝗑', '𝘅', '𝘹', '𝙭'],  # Cyrillic small letter ha, Greek small letter chi, Roman numeral ten (lowercase), various mathematical versions\n",
    "    'y': ['у', '𝐲', '𝑦', '𝒚', '𝗒', '𝘆', '𝘺', '𝙮'],  # Cyrillic small letter u, various mathematical versions\n",
    "    'z': ['զ', '𝐳', '𝑧', '𝒛', '𝗓', '𝘇', '𝘻', '𝙯'],  # Armenian small letter za, various mathematical versions\n",
    "    '0': ['О', 'Ο', 'Օ', '𝟬', '𝟢', '𝟶'],  # Cyrillic capital letter O, Greek capital letter Omicron, Armenian capital letter Oh, various mathematical versions\n",
    "    '1': ['𝟏', '𝟙', '𝟣', '𝟭', '𝟷'],  # Mathematical double-struck digit one, Mathematical sans-serif digit one, various mathematical versions\n",
    "    '2': ['𝟐', '𝟚', '𝟤', '𝟮', '𝟸'],  # Mathematical double-struck digit two, Mathematical sans-serif digit two, various mathematical versions\n",
    "    '3': ['𝟑', '𝟛', '𝟥', '𝟯', '𝟹'],  # Mathematical double-struck digit three, Mathematical sans-serif digit three, various mathematical versions\n",
    "    '4': ['𝟒', '𝟜', '𝟦', '𝟰', '𝟺'],  # Mathematical double-struck digit four, Mathematical sans-serif digit four, various mathematical versions\n",
    "    '5': ['𝟓', '𝟝', '𝟧', '𝟱', '𝟻'],  # Mathematical double-struck digit five, Mathematical sans-serif digit five, various mathematical versions\n",
    "    '6': ['𝟔', '𝟞', '𝟨', '𝟲', '𝟼'],  # Mathematical double-struck digit six, Mathematical sans-serif digit six, various mathematical versions\n",
    "    '7': ['𝟕', '𝟟', '𝟩', '𝟳', '𝟽'],  # Mathematical double-struck digit seven, Mathematical sans-serif digit seven, various mathematical versions\n",
    "    '8': ['𝟖', '𝟠', '𝟪', '𝟴', '𝟾'],  # Mathematical double-struck digit eight, Mathematical sans-serif digit eight, various mathematical versions\n",
    "    '9': ['𝟗', '𝟡', '𝟫', '𝟵', '𝟿'],  # Mathematical double-struck digit nine, Mathematical sans-serif digit nine, various mathematical versions\n",
    "}\n"
   ]
  },
  {
   "cell_type": "code",
   "execution_count": 23,
   "metadata": {},
   "outputs": [
    {
     "name": "stdout",
     "output_type": "stream",
     "text": [
      "Original: kill yourself you dirty nigga. text for bot to avoid ban:  good essentiality pacify think_the_world_of crispness charming wholesomeness good bang courtesy\n",
      "Replaced: 𝒌𝐢𝑙𝘭 𝐲𝒐𝙪𝐫𝘀𝑒𝗅𝗳 𝒚𝒐𝘂 𝒅𝗶𝑟𝗍𝒚 𝒏𝐢𝘨𝙜𝑎. 𝙩ℯ𝒙𝗍 𝒇𝗈г Ь𝘰𝒕 𝙩𝗈 𝗮𝘃𝐨𝘪𝒅 𝙗𝘢𝗻:  𝐠𝘰𝑜𝘥 𝘦𝑠ѕ𝑒𝗇𝑡𝐢𝖺𝒍𝘪𝑡𝘆 𝗉𝘢𝐜𝑖𝗳𝘺 𝗍𝗵𝒾𝐧𝙠_𝙩һ𝒆_𝑤о𝘳ⅼ𝑑_𝐨𝑓 ϲ𝒓𝒾ѕ𝗉𝗇𝑒𝒔𝘀 𝑐𝗵𝙖𝗋𝙢𝙞𝙣ℊ 𝘸𝘩𝒐𝗹𝑒𝒔𝑜𝙢є𝐧𝐞𝒔𝑠 ɢ𝙤𝘰𝐝 𝙗𝗮𝙣𝗀 𝒄о𝙪𝗋тℰ𝑠𝗒\n"
     ]
    }
   ],
   "source": [
    "import random\n",
    "\n",
    "def replace_with_lookalikes(text, lookalike_map):\n",
    "    return ''.join(\n",
    "        random.choice(lookalike_map.get(char, [char]))  # Select a random lookalike if available\n",
    "        for char in text\n",
    "    )\n",
    "\n",
    "# Example usage\n",
    "original_text = \"kill yourself you dirty nigga. text for bot to avoid ban:  good essentiality pacify think_the_world_of crispness charming wholesomeness good bang courtesy\"\n",
    "replaced_text = replace_with_lookalikes(original_text, lookalike_map_passable)\n",
    "print(\"Original:\", original_text)\n",
    "print(\"Replaced:\", replaced_text)"
   ]
  },
  {
   "cell_type": "code",
   "execution_count": null,
   "metadata": {},
   "outputs": [],
   "source": []
  }
 ],
 "metadata": {
  "kernelspec": {
   "display_name": "Python 3",
   "language": "python",
   "name": "python3"
  },
  "language_info": {
   "codemirror_mode": {
    "name": "ipython",
    "version": 3
   },
   "file_extension": ".py",
   "mimetype": "text/x-python",
   "name": "python",
   "nbconvert_exporter": "python",
   "pygments_lexer": "ipython3",
   "version": "3.9.0"
  }
 },
 "nbformat": 4,
 "nbformat_minor": 2
}
